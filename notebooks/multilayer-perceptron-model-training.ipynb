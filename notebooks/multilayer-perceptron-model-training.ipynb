{
  "cells": [
    {
      "cell_type": "code",
      "execution_count": 1,
      "metadata": {
        "colab": {
          "base_uri": "https://localhost:8080/",
          "height": 749
        },
        "id": "dskeUULKavF2",
        "outputId": "8bd452b1-90e2-4e03-af8d-226b36e59e4a"
      },
      "outputs": [
        {
          "ename": "ModuleNotFoundError",
          "evalue": "No module named 'tensorflow'",
          "output_type": "error",
          "traceback": [
            "\u001b[1;31m---------------------------------------------------------------------------\u001b[0m",
            "\u001b[1;31mModuleNotFoundError\u001b[0m                       Traceback (most recent call last)",
            "Cell \u001b[1;32mIn[1], line 6\u001b[0m\n\u001b[0;32m      4\u001b[0m \u001b[38;5;28;01mimport\u001b[39;00m \u001b[38;5;21;01mos\u001b[39;00m\n\u001b[0;32m      5\u001b[0m \u001b[38;5;28;01mfrom\u001b[39;00m \u001b[38;5;21;01msklearn\u001b[39;00m\u001b[38;5;21;01m.\u001b[39;00m\u001b[38;5;21;01mmodel_selection\u001b[39;00m \u001b[38;5;28;01mimport\u001b[39;00m train_test_split\n\u001b[1;32m----> 6\u001b[0m \u001b[38;5;28;01mfrom\u001b[39;00m \u001b[38;5;21;01mtensorflow\u001b[39;00m\u001b[38;5;21;01m.\u001b[39;00m\u001b[38;5;21;01mkeras\u001b[39;00m\u001b[38;5;21;01m.\u001b[39;00m\u001b[38;5;21;01mmodels\u001b[39;00m \u001b[38;5;28;01mimport\u001b[39;00m Sequential\n\u001b[0;32m      7\u001b[0m \u001b[38;5;28;01mfrom\u001b[39;00m \u001b[38;5;21;01mtensorflow\u001b[39;00m\u001b[38;5;21;01m.\u001b[39;00m\u001b[38;5;21;01mkeras\u001b[39;00m\u001b[38;5;21;01m.\u001b[39;00m\u001b[38;5;21;01mlayers\u001b[39;00m \u001b[38;5;28;01mimport\u001b[39;00m Dense\n\u001b[0;32m      8\u001b[0m \u001b[38;5;28;01mfrom\u001b[39;00m \u001b[38;5;21;01mtensorflow\u001b[39;00m\u001b[38;5;21;01m.\u001b[39;00m\u001b[38;5;21;01mkeras\u001b[39;00m\u001b[38;5;21;01m.\u001b[39;00m\u001b[38;5;21;01moptimizers\u001b[39;00m \u001b[38;5;28;01mimport\u001b[39;00m Adam\n",
            "\u001b[1;31mModuleNotFoundError\u001b[0m: No module named 'tensorflow'"
          ]
        }
      ],
      "source": [
        "import pandas\n",
        "import warnings\n",
        "import plotly.offline as py\n",
        "import os\n",
        "from sklearn.model_selection import train_test_split\n",
        "from tensorflow.keras.models import Sequential\n",
        "from tensorflow.keras.layers import Dense\n",
        "from tensorflow.keras.optimizers import Adam\n",
        "from tensorflow.keras.callbacks import EarlyStopping\n",
        "from sklearn.model_selection import train_test_split\n",
        "from sklearn.preprocessing import LabelEncoder\n",
        "from sklearn.preprocessing import StandardScaler\n",
        "from sklearn.preprocessing import MinMaxScaler\n",
        "\n",
        "warnings.filterwarnings('ignore')\n",
        "py.init_notebook_mode(connected=True)\n",
        "\n",
        "try:\n",
        "    file_path = os.path.join('../sample-data/dataset.csv')\n",
        "\n",
        "    dataset = pandas.read_csv(file_path)\n",
        "    \n",
        "except FileNotFoundError:\n",
        "    dataset = None\n",
        "    print(f\"Error: The file at {file_path} was not found.\")\n",
        "\n",
        "except pandas.errors.EmptyDataError:\n",
        "    dataset = None\n",
        "    print(\"Error: The file is empty.\")\n",
        "    \n",
        "except pandas.errors.ParserError:\n",
        "    dataset = None\n",
        "    print(\"Error: The file could not be parsed.\")\n",
        "\n",
        "feature_cols = [\"brand\", \"model\", \"year\", \"transmission\", \"mileage\", \"fuelType\", \"mpg\", \"engineSize\"]\n",
        "\n",
        "target_col = [\"price\"]\n",
        "\n",
        "categorical_cols = [\"brand\", \"model\", \"transmission\", \"fuelType\"]\n",
        "\n",
        "if dataset is not None:\n",
        "    desired_columns = [\"brand\", \"model\", \"year\", \"price\", \"transmission\", \"mileage\", \"fuelType\", \"mpg\", \"engineSize\"]\n",
        "\n",
        "    dataset = dataset[desired_columns]\n",
        "\n",
        "try:\n",
        "    label_encoder = LabelEncoder()\n",
        "    dataset['brand_encoded'] = label_encoder.fit_transform(dataset['brand'])\n",
        "    dataset['model_encoded'] = label_encoder.fit_transform(dataset['model'])\n",
        "    dataset['transmission_encoded'] = label_encoder.fit_transform(dataset['transmission'])\n",
        "    dataset['fuelType_encoded'] = label_encoder.fit_transform(dataset['fuelType'])\n",
        "\n",
        "    X = dataset[['brand_encoded', 'model_encoded', 'year', 'transmission_encoded', 'mileage', 'fuelType_encoded', 'mpg', 'engineSize' ]]\n",
        "    Y = dataset[target_col]\n",
        "\n",
        "except KeyError as e:\n",
        "    X, Y = None\n",
        "    print(f\"Error: The specified column {e} does not exist in the dataframe.\")\n",
        "    \n",
        "except Exception as e:\n",
        "    X, Y = None\n",
        "    print(f\"An unexpected error occurred during preprocessing: {e}\")\n",
        "\n",
        "x_train, x_val, y_train, y_val = train_test_split(X, Y, test_size=(0.7), random_state=42)\n",
        "\n",
        "scaler = StandardScaler()\n",
        "x_train = scaler.fit_transform(x_train)\n",
        "x_val = scaler.transform(x_val)\n",
        "\n",
        "y_scaler = MinMaxScaler()\n",
        "y_train = y_scaler.fit_transform(y_train)\n",
        "y_val = y_scaler.transform(y_val)\n",
        "\n",
        "model = Sequential([\n",
        "    Dense(128, activation='relu', input_shape=(X.shape[1],)),\n",
        "    Dense(64, activation='relu'),\n",
        "    Dense(1)\n",
        "])\n",
        "\n",
        "model.compile(optimizer=Adam(), loss='mean_squared_error', metrics=['mean_squared_error'])\n",
        "\n",
        "early_stopping = EarlyStopping(monitor='val_loss', patience=5, restore_best_weights=True)\n",
        "\n",
        "history_mlp = model.fit(x_train, y_train, validation_data=(x_val, y_val), epochs=20, batch_size=32, callbacks=[early_stopping])\n",
        "\n",
        "model.save('../trained-data/multilayer-perceptron-model-training.h5') \n",
        "\n",
        "print(\"success\")"
      ]
    }
  ],
  "metadata": {
    "colab": {
      "provenance": []
    },
    "kernelspec": {
      "display_name": "Python 3",
      "name": "python3"
    },
    "language_info": {
      "codemirror_mode": {
        "name": "ipython",
        "version": 3
      },
      "file_extension": ".py",
      "mimetype": "text/x-python",
      "name": "python",
      "nbconvert_exporter": "python",
      "pygments_lexer": "ipython3",
      "version": "3.11.5"
    }
  },
  "nbformat": 4,
  "nbformat_minor": 0
}
