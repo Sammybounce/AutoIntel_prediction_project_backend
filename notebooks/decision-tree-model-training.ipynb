{
  "cells": [
    {
      "cell_type": "code",
      "execution_count": 1,
      "metadata": {
        "colab": {
          "base_uri": "https://localhost:8080/",
          "height": 17
        },
        "id": "o24nMmQH3JYl",
        "outputId": "7d861132-e319-497b-c909-863bb0596d7e"
      },
      "outputs": [
        {
          "data": {
            "text/html": [
              "        <script type=\"text/javascript\">\n",
              "        window.PlotlyConfig = {MathJaxConfig: 'local'};\n",
              "        if (window.MathJax && window.MathJax.Hub && window.MathJax.Hub.Config) {window.MathJax.Hub.Config({SVG: {font: \"STIX-Web\"}});}\n",
              "        if (typeof require !== 'undefined') {\n",
              "        require.undef(\"plotly\");\n",
              "        requirejs.config({\n",
              "            paths: {\n",
              "                'plotly': ['https://cdn.plot.ly/plotly-2.12.1.min']\n",
              "            }\n",
              "        });\n",
              "        require(['plotly'], function(Plotly) {\n",
              "            window._Plotly = Plotly;\n",
              "        });\n",
              "        }\n",
              "        </script>\n",
              "        "
            ]
          },
          "metadata": {},
          "output_type": "display_data"
        },
        {
          "name": "stdout",
          "output_type": "stream",
          "text": [
            "success\n"
          ]
        }
      ],
      "source": [
        "import pandas\n",
        "import os\n",
        "import plotly.offline as plotly_offline\n",
        "import joblib\n",
        "\n",
        "from sklearn.tree import DecisionTreeRegressor\n",
        "from sklearn.preprocessing import LabelEncoder\n",
        "\n",
        "plotly_offline.init_notebook_mode(connected=True)\n",
        "\n",
        "try:\n",
        "    file_path = os.path.join('../sample-data/dataset.csv')\n",
        "\n",
        "    dataset = pandas.read_csv(file_path)\n",
        "    \n",
        "except FileNotFoundError:\n",
        "    dataset = None\n",
        "    print(f\"Error: The file at {file_path} was not found.\")\n",
        "\n",
        "except pandas.errors.EmptyDataError:\n",
        "    dataset = None\n",
        "    print(\"Error: The file is empty.\")\n",
        "    \n",
        "except pandas.errors.ParserError:\n",
        "    dataset = None\n",
        "    print(\"Error: The file could not be parsed.\")\n",
        "\n",
        "feature_cols = [\"brand\", \"model\", \"year\", \"transmission\", \"mileage\", \"fuelType\", \"mpg\", \"engineSize\"]\n",
        "\n",
        "target_col = [\"price\"]\n",
        "\n",
        "categorical_cols = [\"brand\", \"model\", \"transmission\", \"fuelType\"]\n",
        "\n",
        "if dataset is not None:\n",
        "    desired_columns = [\"brand\", \"model\", \"year\", \"price\", \"transmission\", \"mileage\", \"fuelType\", \"mpg\", \"engineSize\"]\n",
        "\n",
        "    dataset = dataset[desired_columns]\n",
        "\n",
        "try:\n",
        "    label_encoder = LabelEncoder()\n",
        "    dataset['brand_encoded'] = label_encoder.fit_transform(dataset['brand'])\n",
        "    dataset['model_encoded'] = label_encoder.fit_transform(dataset['model'])\n",
        "    dataset['transmission_encoded'] = label_encoder.fit_transform(dataset['transmission'])\n",
        "    dataset['fuelType_encoded'] = label_encoder.fit_transform(dataset['fuelType'])\n",
        "\n",
        "    X = dataset[['brand_encoded', 'model_encoded', 'year', 'transmission_encoded', 'mileage', 'fuelType_encoded', 'mpg', 'engineSize' ]]\n",
        "    Y = dataset[target_col]\n",
        "\n",
        "except KeyError as e:\n",
        "    X, Y = None\n",
        "    print(f\"Error: The specified column {e} does not exist in the dataframe.\")\n",
        "    \n",
        "except Exception as e:\n",
        "    X, Y = None\n",
        "    print(f\"An unexpected error occurred during preprocessing: {e}\")\n",
        "\n",
        "if X is not None and Y is not None:\n",
        "    model = DecisionTreeRegressor()\n",
        "    model.fit(X, Y)\n",
        "\n",
        "    joblib.dump(model, '../trained-data/decision-tree-trained-model.joblib')\n",
        "\n",
        "    print(\"success\")"
      ]
    }
  ],
  "metadata": {
    "colab": {
      "provenance": []
    },
    "kernelspec": {
      "display_name": "Python 3",
      "name": "python3"
    },
    "language_info": {
      "codemirror_mode": {
        "name": "ipython",
        "version": 3
      },
      "file_extension": ".py",
      "mimetype": "text/x-python",
      "name": "python",
      "nbconvert_exporter": "python",
      "pygments_lexer": "ipython3",
      "version": "3.11.5"
    }
  },
  "nbformat": 4,
  "nbformat_minor": 0
}
